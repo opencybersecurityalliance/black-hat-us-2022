{
 "cells": [
  {
   "cell_type": "markdown",
   "id": "caf73f5a",
   "metadata": {},
   "source": [
    "# Calling Kestrel via OpenC2\n",
    "OpenC2 is the standard, vendor agnostic language for command and control for cyber defense from OASIS. OpenC2 commands are instructions to execute on an system, and are composed of two main components: an `action` and a `target`. The Kestrel Actuator profile supports the `investigate` action. Targets are cyber observables, such as files, devices, IP addresses and processes. In an OpenC2 implementation, there are two main components, a `producer` of a command, and a `consumer`, which executes the command, and returns a `response`. The transport and serialization is an implementation detail. In our example, we use HTTP and JSON. \n",
    "\n",
    "Let's get started! First, you'll need to run the consumer\n",
    "\n",
    "`$ python consumer.py`\n",
    "\n",
    "Do that in a separate terminal, and return here."
   ]
  },
  {
   "cell_type": "code",
   "execution_count": null,
   "id": "1c2047f4",
   "metadata": {},
   "outputs": [],
   "source": [
    "import sys\n",
    "import uuid\n",
    "import json\n",
    "import time\n",
    "\n",
    "import requests\n",
    "import pandas as pd\n",
    "import openc2"
   ]
  },
  {
   "cell_type": "code",
   "execution_count": null,
   "id": "be77f7dd",
   "metadata": {},
   "outputs": [],
   "source": [
    "host = 'localhost'\n",
    "port = '5000'"
   ]
  },
  {
   "cell_type": "code",
   "execution_count": null,
   "id": "1fc5671e",
   "metadata": {},
   "outputs": [],
   "source": [
    "def get_uuid():\n",
    "    return str(uuid.uuid4())\n",
    "\n",
    "def get_headers(uuid):\n",
    "    headers = {\n",
    "        \"request_id\": uuid,\n",
    "        \"created\": time.time()\n",
    "    }\n",
    "    return headers"
   ]
  },
  {
   "cell_type": "markdown",
   "id": "c42c30d2",
   "metadata": {},
   "source": [
    "### Query Command\n",
    "Every OpenC2 consumer must suppor the `query` command which specifies what profiles, actions, and targets it supports. "
   ]
  },
  {
   "cell_type": "code",
   "execution_count": null,
   "id": "e5392f0d",
   "metadata": {},
   "outputs": [],
   "source": [
    "def _get_query():\n",
    "    cmd = {\n",
    "        \"action\": \"query\",\n",
    "        \"target\": {\"features\": [\"versions\", \"profiles\", \"rate_limit\", \"pairs\"]},\n",
    "        \"args\": {},\n",
    "        \"actuator\": {\n",
    "            \"x-kestrel\": {}\n",
    "        }\n",
    "    }\n",
    "    return cmd"
   ]
  },
  {
   "cell_type": "code",
   "execution_count": null,
   "id": "2d149c4c",
   "metadata": {},
   "outputs": [],
   "source": [
    "def run_command(cmd):\n",
    "    uuid = get_uuid()\n",
    "    headers = {\n",
    "        \"Content-type\": \"application/openc2+json;version=1.0\",\n",
    "        \"Accept\": \"application/openc2+json;version=1.0\",\n",
    "        \"X-Request-ID\": uuid\n",
    "    }\n",
    "    body = {\n",
    "        \"headers\": get_headers(uuid),\n",
    "        \"body\": {\"openc2\": { \"request\": cmd } }\n",
    "        }\n",
    "\n",
    "    if isinstance(body, str):\n",
    "        res = requests.post(f'http://{host}:{port}/v1/openc2', data=body, headers=headers)\n",
    "    else:\n",
    "        res = requests.post(f'http://{host}:{port}/v1/openc2', json=body, headers=headers)\n",
    "    print('response from server:',res.status_code)\n",
    "    return res.json()['body']['openc2']"
   ]
  },
  {
   "cell_type": "code",
   "execution_count": null,
   "id": "f2551a6c",
   "metadata": {},
   "outputs": [],
   "source": [
    "profile = run_command(_get_query())\n",
    "print(profile)"
   ]
  },
  {
   "cell_type": "code",
   "execution_count": null,
   "id": "ad3a2876",
   "metadata": {},
   "outputs": [],
   "source": [
    "cmd = {\n",
    "        \"action\": \"investigate\",\n",
    "        \"target\": {\n",
    "            \"process\": {\n",
    "                \"name\": \"node\"\n",
    "                }\n",
    "        },\n",
    "        \"args\": {\n",
    "            \"huntargs\": {},\n",
    "            \"returnvars\": [\"exploits\"],\n",
    "            \"response_requested\": \"complete\"\n",
    "            },\n",
    "        \"actuator\": {\n",
    "            \"x-kestrel\": {\n",
    "                \"huntbook\": \"exploits\"\n",
    "            }\n",
    "        }\n",
    "    }\n",
    "response = run_command(cmd)\n",
    "pd.DataFrame(response['results']['exploits'])"
   ]
  },
  {
   "cell_type": "code",
   "execution_count": null,
   "id": "0211bde1",
   "metadata": {},
   "outputs": [],
   "source": [
    "cmd = {\n",
    "        \"action\": \"investigate\",\n",
    "        \"target\": {\n",
    "            \"process\": {\n",
    "                \"name\": \"WinMail.exe\"\n",
    "                }\n",
    "        },\n",
    "        \"args\": {\n",
    "            \"huntargs\": {\"source\" : \"bh22-windows-192.168.56.111\"},\n",
    "            \"returnvars\": [\"exploits\"],\n",
    "            \"response_requested\": \"complete\"\n",
    "            },\n",
    "        \"actuator\": {\n",
    "            \"x-kestrel\": {\n",
    "                \"huntbook\": \"exploits\"\n",
    "            }\n",
    "        }\n",
    "    }\n",
    "response = run_command(cmd)\n",
    "pd.DataFrame(response['results']['exploits'])"
   ]
  },
  {
   "cell_type": "code",
   "execution_count": null,
   "id": "628990d1",
   "metadata": {},
   "outputs": [],
   "source": [
    "_[['name', 'parent_ref.name']]"
   ]
  },
  {
   "cell_type": "code",
   "execution_count": null,
   "id": "a7494f6d",
   "metadata": {},
   "outputs": [],
   "source": [
    "from openc2.v10 import IPv4Address\n",
    "from oc2.custom import KestrelArgs, KestrelActuator"
   ]
  },
  {
   "cell_type": "code",
   "execution_count": null,
   "id": "129be502",
   "metadata": {},
   "outputs": [],
   "source": [
    "huntbook = 'check_c2'\n",
    "hb = profile['results']['x-kestrel'][huntbook]\n",
    "hb"
   ]
  },
  {
   "cell_type": "code",
   "execution_count": null,
   "id": "8f5cd664",
   "metadata": {},
   "outputs": [],
   "source": [
    "huntargs = {}\n",
    "returnvars = hb['retvars']\n",
    "target = IPv4Address(ipv4_net='192.168.56.150')\n",
    "\n",
    "cmd = openc2.v10.Command(\n",
    "    action=\"investigate\",\n",
    "    target=target,\n",
    "    args=KestrelArgs(huntargs=huntargs, returnvars=returnvars, response_requested=\"complete\"),\n",
    "    actuator=KestrelActuator(huntbook=huntbook, \n",
    "    )\n",
    ")"
   ]
  },
  {
   "cell_type": "code",
   "execution_count": null,
   "id": "aab0803f",
   "metadata": {},
   "outputs": [],
   "source": [
    "cmd.serialize()"
   ]
  },
  {
   "cell_type": "code",
   "execution_count": null,
   "id": "76d22d91",
   "metadata": {},
   "outputs": [],
   "source": [
    "response = run_command(cmd.serialize())\n",
    "pd.DataFrame(response['results']['proc'])"
   ]
  },
  {
   "cell_type": "code",
   "execution_count": null,
   "id": "c8f5dc53",
   "metadata": {},
   "outputs": [],
   "source": [
    "pd.DataFrame(response['results']['traffic'])"
   ]
  }
 ],
 "metadata": {
  "kernelspec": {
   "display_name": "Python 3.8.12 64-bit",
   "language": "python",
   "name": "python3"
  },
  "language_info": {
   "codemirror_mode": {
    "name": "ipython",
    "version": 3
   },
   "file_extension": ".py",
   "mimetype": "text/x-python",
   "name": "python",
   "nbconvert_exporter": "python",
   "pygments_lexer": "ipython3",
   "version": "3.8.12"
  },
  "vscode": {
   "interpreter": {
    "hash": "ff94885aa2d97705a9dae03869c2058fa855d1acd9df351499300343e2e591a2"
   }
  }
 },
 "nbformat": 4,
 "nbformat_minor": 5
}
